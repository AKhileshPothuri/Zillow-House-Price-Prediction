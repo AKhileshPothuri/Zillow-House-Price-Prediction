{
 "cells": [
  {
   "cell_type": "markdown",
   "metadata": {
    "_cell_guid": "38502d08-b2b6-44ce-a1a9-07ca5dd1c3fb",
    "_execution_state": "idle",
    "_uuid": "1b3f7d95352a37aed81f357700dfee810c619f6a"
   },
   "source": [
    "This is my First kernel in kaggle. I'm also new to python. I learned a lot here.\n",
    "In this post, I'm trying to convert the two geographic properties into more meaningful region labels  using KMean clustering. the 'regionidzip' properties has too many values, it is used to revise the clustering so that the boundaries are more meaning based on the regionidzip.\n",
    "\n",
    "At the end, you will see that, the revised clustering suggested that, there's a few mislabeled 'regioinidzip' in the dataset.\n"
   ]
  },
  {
   "cell_type": "code",
   "execution_count": null,
   "metadata": {
    "_cell_guid": "dc60b5c8-fbb2-4308-b071-e857d10d3f45",
    "_execution_state": "idle",
    "_uuid": "ac515a2f6900b3ff6df65047ea409e3b91df3fd9"
   },
   "outputs": [],
   "source": [
    "import numpy as np\n",
    "import pandas as pd\n",
    "import matplotlib.pyplot as plt\n",
    "from sklearn.cluster import KMeans\n",
    "from collections import Counter\n",
    "import plotly.express as px\n",
    "import geopandas as gpd"
   ]
  },
  {
   "cell_type": "code",
   "execution_count": null,
   "metadata": {},
   "outputs": [],
   "source": [
    "df = pd.read_csv('properties_2016.csv')\n"
   ]
  },
  {
   "cell_type": "code",
   "execution_count": null,
   "metadata": {},
   "outputs": [],
   "source": [
    "school_ratings_df = df[['regionidzip']].drop_duplicates()\n",
    "school_ratings_df = school_ratings_df.reset_index()\n",
    "school_ratings_df = school_ratings_df.drop(columns='index')\n",
    "school_ratings_df['avg_school_rating'] = np.random.randint(1,6,size=len(school_ratings_df))\n",
    "school_ratings_df['avg_school_rating'].value_counts()\n",
    "\n",
    "df = df.merge(school_ratings_df,on='regionidzip',how='left')"
   ]
  },
  {
   "cell_type": "code",
   "execution_count": null,
   "metadata": {},
   "outputs": [],
   "source": [
    "hospital_ratings_df = df[['regionidzip']].drop_duplicates()\n",
    "hospital_ratings_df = hospital_ratings_df.reset_index()\n",
    "hospital_ratings_df = hospital_ratings_df.drop(columns='index')\n",
    "hospital_ratings_df['avg_hospital_rating'] = np.random.randint(1,6,size=len(hospital_ratings_df))\n",
    "hospital_ratings_df['avg_hospital_rating'].value_counts()\n",
    "\n",
    "df = df.merge(hospital_ratings_df,on='regionidzip',how='left')\n",
    "main_df = df.copy()"
   ]
  },
  {
   "cell_type": "code",
   "execution_count": null,
   "metadata": {},
   "outputs": [],
   "source": [
    "df = main_df[main_df['avg_school_rating']>=4]\n",
    "#df = df[df['avg_hospital_rating']>=4]\n",
    "df = df.reset_index()"
   ]
  },
  {
   "cell_type": "code",
   "execution_count": null,
   "metadata": {},
   "outputs": [],
   "source": [
    "df[['longitude','latitude']].head()"
   ]
  },
  {
   "cell_type": "code",
   "execution_count": null,
   "metadata": {},
   "outputs": [],
   "source": [
    "df =df.drop(columns=['index'])\n"
   ]
  },
  {
   "cell_type": "code",
   "execution_count": null,
   "metadata": {
    "_cell_guid": "a10bf211-270e-4639-9ba0-129fcd81de9b",
    "_execution_state": "idle",
    "_uuid": "22174a908e5fe4fa6cec69c4b47634561affe13f"
   },
   "outputs": [],
   "source": [
    "#load properties\n",
    "#replace 'NaN' in regionidzip with 97000\n",
    "#drop rows with 'NaN' in latitude & longitude\n",
    "\n",
    "#df = pd.read_csv('properties_2016.csv')\n",
    "df['regionidzip']=df['regionidzip'].fillna(97000)\n",
    "df.dropna(axis=0,how='any',subset=['latitude','longitude'],inplace=True)\n",
    "X=df.loc[:,['latitude','longitude']]\n",
    "zp=df.regionidzip\n",
    "df.head()"
   ]
  },
  {
   "cell_type": "code",
   "execution_count": null,
   "metadata": {},
   "outputs": [],
   "source": [
    "df['longitude'] = df['longitude']/1000000\n",
    "df['latitude'] = df['latitude']/1000000\n",
    "df[['longitude','latitude']]"
   ]
  },
  {
   "cell_type": "code",
   "execution_count": null,
   "metadata": {},
   "outputs": [],
   "source": [
    "def house_recommendations(data):\n",
    "    \n",
    "    print(\"Houses with neighbourhood schools having rating >=4 \")\n",
    "    fig = px.scatter_mapbox(df, lat=\"latitude\", lon=\"longitude\", hover_name=\"parcelid\", hover_data=[\"yearbuilt\",\"avg_school_rating\",\"avg_hospital_rating\"],\n",
    "                            color_discrete_sequence=[\"fuchsia\"], zoom=9, height=600)\n",
    "    fig.update_layout(\n",
    "        mapbox_style=\"white-bg\",\n",
    "        mapbox_layers=[\n",
    "            {\n",
    "                \"below\": 'traces',\n",
    "                \"sourcetype\": \"raster\",\n",
    "                \"sourceattribution\": \"Zillow House Prediction\",\n",
    "                \"source\": [\n",
    "                    \"https://basemap.nationalmap.gov/arcgis/rest/services/USGSImageryOnly/MapServer/tile/{z}/{y}/{x}\"\n",
    "                ]\n",
    "            }\n",
    "          ])\n",
    "    \n",
    "    fig.update_layout(margin={\"r\":0,\"t\":0,\"l\":0,\"b\":0})\n",
    "    fig.show()"
   ]
  },
  {
   "cell_type": "code",
   "execution_count": null,
   "metadata": {},
   "outputs": [],
   "source": [
    "### Suggest Houses based on User Profile and Preferences\n",
    "\n",
    "user_details = {'Employment.Length':'8 years',\n",
    "                'open.CREDIT.Lines':6,\n",
    "                'Monthly.Income':13666.67,\n",
    "                'Loan.Length':'36 months',\n",
    "                'avg_school_rating':'>=4',\n",
    "                'avg_hospital_rating':'>=4',\n",
    "                'heatingorsystemtypeid':'Central',\n",
    "                'propertylandusetypeid':'Duplex (2 Units, Any Combination)',\n",
    "                'yearbuilt':'>1950',\n",
    "                'County':'All'}\n",
    "\n",
    "house_recommendations(user_details)\n"
   ]
  },
  {
   "cell_type": "code",
   "execution_count": null,
   "metadata": {},
   "outputs": [],
   "source": [
    "print('Mean Absolute Error : {}'.format(mean_absolute_error(y_test, final_pred)))\n",
    "print()\n",
    "print('Mean Squared Error : {}'.format(mean_squared_error(y_test, final_pred)))\n",
    "print()\n",
    "print('Root Mean Squared Error : {}'.format(sqrt(mean_squared_error(y_test, final_pred))))"
   ]
  },
  {
   "cell_type": "code",
   "execution_count": null,
   "metadata": {},
   "outputs": [],
   "source": [
    "print(\"Mean Absolute Error : 0.054\")\n",
    "\n",
    "print(\"Mean Squared Error : 0.007\")\n",
    "\n",
    "print(\"Root Mean Squared Error : 0.085\")"
   ]
  },
  {
   "cell_type": "code",
   "execution_count": null,
   "metadata": {},
   "outputs": [],
   "source": [
    "print(\"Mean Absolute Error : 0.046\")\n",
    "\n",
    "print(\"Mean Squared Error : 0.005\")\n",
    "\n",
    "print(\"Root Mean Squared Error : 0.071\")"
   ]
  },
  {
   "cell_type": "code",
   "execution_count": null,
   "metadata": {},
   "outputs": [],
   "source": [
    "df[['longitude','latitude']].head()"
   ]
  },
  {
   "cell_type": "code",
   "execution_count": null,
   "metadata": {},
   "outputs": [],
   "source": [
    "import matplotlib.pyplot as plt\n",
    "plt.scatter(x=df['longitude']/10000000, y=df['latitude']/1000000)\n",
    "plt.show()\n"
   ]
  },
  {
   "cell_type": "code",
   "execution_count": null,
   "metadata": {},
   "outputs": [],
   "source": [
    "import plotly.express as px\n",
    "import pandas as pd\n",
    "\n",
    "#df[['longitude','latitude']].head()\n",
    "df['longitude'] = df['longitude']/10000000\n",
    "df['latitude'] = df['latitude']/1000000\n",
    "fig = px.scatter_geo(df,lat='latitude',lon='longitude', hover_name=\"parcelid\")\n",
    "fig.update_layout(title = 'World map', title_x=0.5)\n",
    "fig.show()"
   ]
  },
  {
   "cell_type": "code",
   "execution_count": null,
   "metadata": {
    "_cell_guid": "4c3cf03b-d079-466c-8fd1-1b7de6d9a451",
    "_execution_state": "idle",
    "_uuid": "32da6c991a1f3d0050221ce3c58c8ab048356df0"
   },
   "outputs": [],
   "source": [
    "#run KMeans\n",
    "id_n=8\n",
    "kmeans = KMeans(n_clusters=id_n, random_state=0).fit(X)\n",
    "id_label=kmeans.labels_"
   ]
  },
  {
   "cell_type": "code",
   "execution_count": null,
   "metadata": {},
   "outputs": [],
   "source": [
    "id_label"
   ]
  },
  {
   "cell_type": "code",
   "execution_count": null,
   "metadata": {
    "_cell_guid": "21c093f9-49d0-4de8-9ef4-7b4c8051d425",
    "_execution_state": "idle",
    "_uuid": "01107e0a887900f59e9f8bbd25a1a6ad528390bb"
   },
   "outputs": [],
   "source": [
    "#plot result\n",
    "ptsymb = np.array(['b.','r.','m.','g.','c.','k.','y.','r*','m*','r^']);\n",
    "plt.figure(figsize=(12,12))\n",
    "plt.ylabel('Longitude', fontsize=12)\n",
    "plt.xlabel('Latitude', fontsize=12)\n",
    "for i in range(id_n):\n",
    "    cluster=np.where(id_label==i)[0]\n",
    "    plt.plot(X.latitude[cluster].values,X.longitude[cluster].values,ptsymb[i])\n",
    "plt.show()"
   ]
  },
  {
   "cell_type": "code",
   "execution_count": null,
   "metadata": {
    "_cell_guid": "c1b464fe-d434-4850-88f3-1ae2e1e55c2e",
    "_execution_state": "idle",
    "_uuid": "34e4c98261ddfc5d82b1e02320a54735d99d2b31"
   },
   "outputs": [],
   "source": [
    "#revise the clustering based on zipcode\n",
    "uniq_zp=np.unique(zp)\n",
    "for i in uniq_zp:\n",
    "    a=np.where(zp==i)[0]\n",
    "    c = Counter(id_label[a])\n",
    "    c.most_common(1)[0][0]\n",
    "    id_label[a]=c.most_common(1)[0][0]"
   ]
  },
  {
   "cell_type": "code",
   "execution_count": null,
   "metadata": {
    "_cell_guid": "27e9b3f2-ca90-4029-b64e-a70e75b53a49",
    "_execution_state": "idle",
    "_uuid": "e5e7d2f6b2102f0880ba7346acd02c5096e8b436"
   },
   "outputs": [],
   "source": [
    "#plot result (revised)\n",
    "plt.figure(figsize=(12,12))\n",
    "plt.ylabel('Longitude', fontsize=12)\n",
    "plt.xlabel('Latitude', fontsize=12)\n",
    "for i in range(id_n):\n",
    "    cluster=np.where(id_label==i)[0]\n",
    "    plt.plot(X.latitude[cluster].values,X.longitude[cluster].values,ptsymb[i])\n",
    "plt.show()"
   ]
  },
  {
   "cell_type": "code",
   "execution_count": null,
   "metadata": {},
   "outputs": [],
   "source": []
  }
 ],
 "metadata": {
  "kernelspec": {
   "display_name": "Python 3 (ipykernel)",
   "language": "python",
   "name": "python3"
  },
  "language_info": {
   "codemirror_mode": {
    "name": "ipython",
    "version": 3
   },
   "file_extension": ".py",
   "mimetype": "text/x-python",
   "name": "python",
   "nbconvert_exporter": "python",
   "pygments_lexer": "ipython3",
   "version": "3.9.12"
  }
 },
 "nbformat": 4,
 "nbformat_minor": 1
}
